{
 "cells": [
  {
   "cell_type": "markdown",
   "metadata": {},
   "source": [
    "# Fichier pour récolter les données Spotify grâce à son API (spotipy sur Python)"
   ]
  },
  {
   "cell_type": "markdown",
   "metadata": {},
   "source": [
    "## Importer les librairies"
   ]
  },
  {
   "cell_type": "code",
   "execution_count": 11,
   "metadata": {
    "collapsed": true
   },
   "outputs": [],
   "source": [
    "#!/usr/bin/env python3\n",
    "# -*- coding: utf-8 -*-\n",
    "\"\"\"\n",
    "@author: okabeshu\n",
    "\"\"\"\n",
    "%matplotlib inline\n",
    "import pandas as pd\n",
    "import sys\n",
    "import pickle\n",
    "\n",
    "import seaborn as sns\n",
    "import matplotlib.pyplot as plt"
   ]
  },
  {
   "cell_type": "markdown",
   "metadata": {},
   "source": [
    "## Configurer l'accès à Spotify"
   ]
  },
  {
   "cell_type": "code",
   "execution_count": 12,
   "metadata": {
    "collapsed": true
   },
   "outputs": [],
   "source": [
    "import spotipy\n",
    "from spotipy.oauth2 import SpotifyClientCredentials\n",
    "\n",
    "# Identifiants\n",
    "client_id = \"a13a7e52ed5542ceb7e37cb64b55fbf0\"\n",
    "client_secret = \"396a16805f1f4bc1912a93f4069a24ea\"\n",
    "client_credentials_manager = SpotifyClientCredentials(client_id, client_secret)\n",
    "\n",
    "# Accéder à Spotify\n",
    "sp = spotipy.Spotify(client_credentials_manager = client_credentials_manager)"
   ]
  },
  {
   "cell_type": "markdown",
   "metadata": {},
   "source": [
    "## Récolter les données sur les playlists\n",
    "### Lister toutes les playlists Spotify officielles avec le nom, le nombre de followers et le lien interne Spotify de chaque playlist\n",
    "En effet, à travers cette étape, on a accès à divers types de chansons, suffisamment connues et surtout regroupées par un thème particulier."
   ]
  },
  {
   "cell_type": "code",
   "execution_count": 13,
   "metadata": {},
   "outputs": [
    {
     "data": {
      "text/html": [
       "<div>\n",
       "<style>\n",
       "    .dataframe thead tr:only-child th {\n",
       "        text-align: right;\n",
       "    }\n",
       "\n",
       "    .dataframe thead th {\n",
       "        text-align: left;\n",
       "    }\n",
       "\n",
       "    .dataframe tbody tr th {\n",
       "        vertical-align: top;\n",
       "    }\n",
       "</style>\n",
       "<table border=\"1\" class=\"dataframe\">\n",
       "  <thead>\n",
       "    <tr style=\"text-align: right;\">\n",
       "      <th></th>\n",
       "      <th>followers</th>\n",
       "      <th>playlist_name</th>\n",
       "      <th>uri_pl</th>\n",
       "    </tr>\n",
       "  </thead>\n",
       "  <tbody>\n",
       "    <tr>\n",
       "      <th>0</th>\n",
       "      <td>18519599</td>\n",
       "      <td>Today's Top Hits</td>\n",
       "      <td>spotify:user:spotify:playlist:37i9dQZF1DXcBWIG...</td>\n",
       "    </tr>\n",
       "    <tr>\n",
       "      <th>1</th>\n",
       "      <td>8546675</td>\n",
       "      <td>RapCaviar</td>\n",
       "      <td>spotify:user:spotify:playlist:37i9dQZF1DX0XUsu...</td>\n",
       "    </tr>\n",
       "    <tr>\n",
       "      <th>2</th>\n",
       "      <td>4662221</td>\n",
       "      <td>mint</td>\n",
       "      <td>spotify:user:spotify:playlist:37i9dQZF1DX4dyzv...</td>\n",
       "    </tr>\n",
       "    <tr>\n",
       "      <th>3</th>\n",
       "      <td>3854170</td>\n",
       "      <td>Are &amp; Be</td>\n",
       "      <td>spotify:user:spotify:playlist:37i9dQZF1DX4SBhb...</td>\n",
       "    </tr>\n",
       "    <tr>\n",
       "      <th>4</th>\n",
       "      <td>4034603</td>\n",
       "      <td>Rock This</td>\n",
       "      <td>spotify:user:spotify:playlist:37i9dQZF1DXcF6B6...</td>\n",
       "    </tr>\n",
       "  </tbody>\n",
       "</table>\n",
       "</div>"
      ],
      "text/plain": [
       "   followers     playlist_name  \\\n",
       "0   18519599  Today's Top Hits   \n",
       "1    8546675         RapCaviar   \n",
       "2    4662221              mint   \n",
       "3    3854170          Are & Be   \n",
       "4    4034603         Rock This   \n",
       "\n",
       "                                              uri_pl  \n",
       "0  spotify:user:spotify:playlist:37i9dQZF1DXcBWIG...  \n",
       "1  spotify:user:spotify:playlist:37i9dQZF1DX0XUsu...  \n",
       "2  spotify:user:spotify:playlist:37i9dQZF1DX4dyzv...  \n",
       "3  spotify:user:spotify:playlist:37i9dQZF1DX4SBhb...  \n",
       "4  spotify:user:spotify:playlist:37i9dQZF1DXcF6B6...  "
      ]
     },
     "execution_count": 13,
     "metadata": {},
     "output_type": "execute_result"
    }
   ],
   "source": [
    "# Accéder aux différentes playlists Spotify officielles\n",
    "user = \"spotify\"\n",
    "\n",
    "# Créer un DataFrame de l'ensemble des playlists Spotify officielles\n",
    "def lister_tout (user) :\n",
    "    playlist = []\n",
    "    total = sp.user_playlists(user, limit = 1)[\"total\"] # Nombre total de playlists\n",
    "    for i in range (total) : # 1694 playlists\n",
    "        try :\n",
    "            dic = sp.user_playlists(user, limit = 1, offset = i) # Méthode pour ne pas être limité dans l'extraction\n",
    "            items = dic[\"items\"][0] # Informations sur la playlist\n",
    "            uri = items[\"uri\"] # Lien Spotify pour la playlist\n",
    "            follow = sp.user_playlist(user, uri)[\"followers\"][\"total\"] # Nombre de followers\n",
    "            playlist += [{\"playlist_name\" : items[\"name\"], \"uri_pl\" : uri, \"followers\" : follow}]\n",
    "        except :\n",
    "            pass\n",
    "        #print(i)\n",
    "    df_playlist = pd.DataFrame(playlist)\n",
    "    return df_playlist\n",
    "\n",
    "# Liste (DataFrame) des playlists Spotify ; il n'en reste plus que 1631.\n",
    "#liste = lister_tout(user)\n",
    "\n",
    "# Enregistrer le DataFrame pour une utilisation ultérieure (liste du 30/12/2017)\n",
    "#liste.to_csv(path_or_buf = \"/Users/okabeshu/Documents/ENSAE/Python DS/playlists.csv\", encoding = \"utf-8\", index = False)\n",
    "\n",
    "# Lire le DataFrame pour traiter les données\n",
    "playlists_tout = pd.read_csv(\"/Users/okabeshu/Documents/ENSAE/Python DS/playlists.csv\", encoding = \"utf-8\")\n",
    "playlists_tout.head()"
   ]
  },
  {
   "cell_type": "markdown",
   "metadata": {},
   "source": [
    "### Étudier la \"popularité\" des playlists à travers le nombre de followers\n",
    "Cette étape permet d'étudier la pertinence des playlists. En effet, le DataFrame *playlists_tout* contient par exemple des playlists suédoises (pays de Spotify) ou des playlists obsolètes (remplacées par une autre playlist, plus récente notamment)."
   ]
  },
  {
   "cell_type": "code",
   "execution_count": 14,
   "metadata": {},
   "outputs": [
    {
     "data": {
      "text/plain": [
       "count    1.631000e+03\n",
       "mean     2.198794e+05\n",
       "std      6.948959e+05\n",
       "min      0.000000e+00\n",
       "25%      2.051500e+03\n",
       "50%      3.281600e+04\n",
       "75%      1.722820e+05\n",
       "max      1.851960e+07\n",
       "Name: followers, dtype: float64"
      ]
     },
     "execution_count": 14,
     "metadata": {},
     "output_type": "execute_result"
    }
   ],
   "source": [
    "followers = playlists_tout[\"followers\"]\n",
    "followers.describe()"
   ]
  },
  {
   "cell_type": "code",
   "execution_count": 15,
   "metadata": {},
   "outputs": [
    {
     "data": {
      "text/plain": [
       "<matplotlib.axes._subplots.AxesSubplot at 0x116e248d0>"
      ]
     },
     "execution_count": 15,
     "metadata": {},
     "output_type": "execute_result"
    },
    {
     "data": {
      "image/png": "[encoded data removed]",
      "text/plain": [
       "<matplotlib.figure.Figure at 0x116e3c6a0>"
      ]
     },
     "metadata": {},
     "output_type": "display_data"
    }
   ],
   "source": [
    "# Nombre de followers pour chacune des 1631 playlists.\n",
    "followers.plot(legend = True, title = \"Nombre de followers pour chaque playlist Spotify\")"
   ]
  },
  {
   "cell_type": "code",
   "execution_count": 16,
   "metadata": {},
   "outputs": [
    {
     "data": {
      "text/plain": [
       "<matplotlib.axes._subplots.AxesSubplot at 0x116e62d68>"
      ]
     },
     "execution_count": 16,
     "metadata": {},
     "output_type": "execute_result"
    },
    {
     "data": {
      "image/png": "[encoded data removed]",
      "text/plain": [
       "<matplotlib.figure.Figure at 0x116eeaf60>"
      ]
     },
     "metadata": {},
     "output_type": "display_data"
    }
   ],
   "source": [
    "# On supprime la première playlist qui comptabilise 18519599 followers.\n",
    "follower = followers.iloc[1:]\n",
    "follower.plot(legend = True, title = \"Nombre de followers pour chaque playlist Spotify, sauf la première\")"
   ]
  },
  {
   "cell_type": "code",
   "execution_count": 17,
   "metadata": {},
   "outputs": [
    {
     "data": {
      "text/plain": [
       "count    1.624000e+03\n",
       "mean     1.894998e+05\n",
       "std      4.093577e+05\n",
       "min      0.000000e+00\n",
       "25%      1.987500e+03\n",
       "50%      3.226650e+04\n",
       "75%      1.694210e+05\n",
       "max      3.390430e+06\n",
       "Name: followers, dtype: float64"
      ]
     },
     "execution_count": 17,
     "metadata": {},
     "output_type": "execute_result"
    }
   ],
   "source": [
    "# On supprime les huit premières playlists (Today's Top Hits, RapCaviar, ...)\n",
    "follow = followers.iloc[7:]\n",
    "follow.describe()"
   ]
  },
  {
   "cell_type": "code",
   "execution_count": 18,
   "metadata": {},
   "outputs": [
    {
     "data": {
      "text/plain": [
       "<matplotlib.text.Text at 0x1170b1828>"
      ]
     },
     "execution_count": 18,
     "metadata": {},
     "output_type": "execute_result"
    },
    {
     "data": {
      "image/png": "[encoded data removed]",
      "text/plain": [
       "<matplotlib.figure.Figure at 0x1170542e8>"
      ]
     },
     "metadata": {},
     "output_type": "display_data"
    }
   ],
   "source": [
    "follow.hist(bins = 100)\n",
    "plt.title(\"Nombre de followers pour chaque playlist Spotify, sans les huit premières playlists\")"
   ]
  },
  {
   "cell_type": "markdown",
   "metadata": {},
   "source": [
    "On observe qu'il y a beaucoup de playlists avec très peu de followers. On va donc les supprimer afin de garder les plus intéressantes."
   ]
  },
  {
   "cell_type": "code",
   "execution_count": 8,
   "metadata": {},
   "outputs": [
    {
     "data": {
      "text/plain": [
       "count    1.480000e+03\n",
       "mean     2.079342e+05\n",
       "std      4.243279e+05\n",
       "min      1.020000e+02\n",
       "25%      5.952500e+03\n",
       "50%      4.399250e+04\n",
       "75%      1.884020e+05\n",
       "max      3.390430e+06\n",
       "Name: followers, dtype: float64"
      ]
     },
     "execution_count": 8,
     "metadata": {},
     "output_type": "execute_result"
    }
   ],
   "source": [
    "# Supprimer les playlists avec trop peu de followers (moins de n)\n",
    "def filtrer_follow (playlists, n) :\n",
    "    df = playlists[playlists[\"followers\"] >= n]\n",
    "    return df\n",
    "\n",
    "# Garder que les playlists avec plus de 100 followers\n",
    "playlists_t = filtrer_follow(playlists_tout, 100)   \n",
    "\n",
    "followers_t = playlists_t[\"followers\"]\n",
    "follow_t = followers_t.iloc[7:]\n",
    "follow_t.describe()"
   ]
  },
  {
   "cell_type": "code",
   "execution_count": 9,
   "metadata": {},
   "outputs": [
    {
     "data": {
      "text/plain": [
       "<matplotlib.text.Text at 0x116c04eb8>"
      ]
     },
     "execution_count": 9,
     "metadata": {},
     "output_type": "execute_result"
    }
   ],
   "source": [
    "follow_t.hist(bins = 100)\n",
    "plt.title(\"Nombre de followers pour chaque playlist Spotify (après un premier traitement)\")"
   ]
  },
  {
   "cell_type": "code",
   "execution_count": 10,
   "metadata": {},
   "outputs": [
    {
     "data": {
      "text/plain": [
       "<matplotlib.axes._subplots.AxesSubplot at 0x11375a470>"
      ]
     },
     "execution_count": 10,
     "metadata": {},
     "output_type": "execute_result"
    }
   ],
   "source": [
    "follow_t.plot(kind = \"box\", legend = True, title = \"Nombre de followers pour chaque playlist Spotify (après le premier traitement)\")"
   ]
  },
  {
   "cell_type": "code",
   "execution_count": 35,
   "metadata": {},
   "outputs": [
    {
     "data": {
      "text/plain": [
       "count    2.720000e+02\n",
       "mean     8.797929e+05\n",
       "std      6.361696e+05\n",
       "min      3.007110e+05\n",
       "25%      4.377798e+05\n",
       "50%      6.361035e+05\n",
       "75%      1.106463e+06\n",
       "max      3.390430e+06\n",
       "Name: followers, dtype: float64"
      ]
     },
     "execution_count": 35,
     "metadata": {},
     "output_type": "execute_result"
    }
   ],
   "source": [
    "# Garder que les playlists avec plus de 300000 followers\n",
    "playlists_t = filtrer_follow(playlists_tout, 300000)   \n",
    "\n",
    "followers_t = playlists_t[\"followers\"]\n",
    "follow_t = followers_t.iloc[7:]\n",
    "follow_t.describe()"
   ]
  },
  {
   "cell_type": "code",
   "execution_count": 36,
   "metadata": {},
   "outputs": [
    {
     "data": {
      "text/plain": [
       "<matplotlib.text.Text at 0x1182a12e8>"
      ]
     },
     "execution_count": 36,
     "metadata": {},
     "output_type": "execute_result"
    },
    {
     "data": {
      "image/png": "[encoded data removed]",
      "text/plain": [
       "<matplotlib.figure.Figure at 0x1181ac780>"
      ]
     },
     "metadata": {},
     "output_type": "display_data"
    }
   ],
   "source": [
    "follow_t.hist(bins = 100)\n",
    "plt.title(\"Nombre de followers pour chaque playlist Spotify (après un deuxième traitement)\")"
   ]
  },
  {
   "cell_type": "code",
   "execution_count": 37,
   "metadata": {},
   "outputs": [
    {
     "data": {
      "text/plain": [
       "<matplotlib.axes._subplots.AxesSubplot at 0x11831bc88>"
      ]
     },
     "execution_count": 37,
     "metadata": {},
     "output_type": "execute_result"
    },
    {
     "data": {
      "image/png": "[encoded data removed]",
      "text/plain": [
       "<matplotlib.figure.Figure at 0x118503860>"
      ]
     },
     "metadata": {},
     "output_type": "display_data"
    }
   ],
   "source": [
    "follow_t.plot(kind = \"box\", legend = True, title = \"Nombre de followers pour chaque playlist Spotify (après le deuxième traitement)\")"
   ]
  },
  {
   "cell_type": "code",
   "execution_count": 46,
   "metadata": {
    "collapsed": true
   },
   "outputs": [],
   "source": [
    "# DataFrame avec les playlists choisies\n",
    "playlists = playlists_t.drop(\"followers\", axis = 1)"
   ]
  },
  {
   "cell_type": "markdown",
   "metadata": {},
   "source": [
    "## Récolter les chansons des playlists choisies"
   ]
  },
  {
   "cell_type": "code",
   "execution_count": null,
   "metadata": {
    "collapsed": true
   },
   "outputs": [],
   "source": [
    "# Créer un tableau contenant les informations sur les chansons d'une playlist en France\n",
    "def info_base_playlist (user, id_playlist, name_playlist) :\n",
    "    # Récupérer les données d'une playlist\n",
    "    playlist = sp.user_playlist_tracks(user, playlist_id = id_playlist, limit = 100, offset = 0, fields = None, market = \"FR\")\n",
    "    total = playlist[\"total\"]  # Nombre de chansons\n",
    "    info_songs = playlist[\"items\"] # Chansons\n",
    "    #print(total)\n",
    "    # Traiter les informations sur les chansons\n",
    "    songs = []\n",
    "    for X in info_songs : \n",
    "        info = X[\"track\"]\n",
    "        artist = info[\"artists\"][0][\"name\"] # Nom de l'artiste\n",
    "        name = info[\"name\"] # Titre de la chanson\n",
    "        pop = info[\"popularity\"] # La popularité de la chanson\n",
    "        uri = info[\"uri\"] # L'identifiant de la chanson\n",
    "        features = sp.audio_features(uri)[0] # Informations sur la chanson\n",
    "        dico = {\"artist\" : artist, \"title\" : name, \"popularity\" : pop, \"playlist_name\" : name_playlist}\n",
    "        dico.update(features)\n",
    "        songs += [dico] # Juste les informations nécessaires\n",
    "    # Données en DataFrame\n",
    "    df = pd.DataFrame(songs) # Transformer en DataFrame\n",
    "    df = df.drop([\"analysis_url\", \"track_href\", \"type\", \"id\"], axis = 1) # Supprimer les colonnes inutiles\n",
    "    return df\n",
    "    \n",
    "# Exemple : Chansons dans la playlist Joyeux Noël !\n",
    "#noel = \"spotify:user:spotify:playlist:37i9dQZF1DX0QqahDuqmRY\"\n",
    "#songs = info_base_playlist (user, noel, \"Joyeux Noël !\")\n",
    "# Enregistrer le fichier\n",
    "#songs.to_csv(path_or_buf = \"/Users/okabeshu/Documents/ENSAE/Python DS/test.csv\", encoding = \"utf-8\", index = False)\n",
    "# Lire le fichier\n",
    "#test = pd.read_csv(\"/Users/okabeshu/Documents/ENSAE/Python DS/test.csv\", encoding = \"utf-8\")"
   ]
  },
  {
   "cell_type": "code",
   "execution_count": 47,
   "metadata": {
    "collapsed": true
   },
   "outputs": [],
   "source": [
    "# Collecter les données des playlists Spotify choisies\n",
    "def create_data (user, playlist) : \n",
    "    df = pd.DataFrame() # DataFrame à remplir\n",
    "    for i in range (len(playlist)) : # Boucle for pour pouvoir savoir l'avancement de la fonction\n",
    "        ligne = playlist.iloc[i]\n",
    "        nom, id_playlist = ligne[\"playlist_name\"], ligne[\"uri_pl\"]\n",
    "        print(\"name\", nom, \"id\", id_playlist)\n",
    "        try : \n",
    "            info = info_base_playlist (user, id_playlist, nom) # Récolter les informations sur la playlist\n",
    "            df = df.append(info, ignore_index = True) # Ajout de la ligne\n",
    "        except :\n",
    "            pass\n",
    "        print(i)\n",
    "    return df\n",
    "\n",
    "# DataFrame avec les informations sur les chansons des playlists Spotify avec plus de 300000 followers.\n",
    "#data = create_data(user, playlists)"
   ]
  },
  {
   "cell_type": "markdown",
   "metadata": {},
   "source": [
    "## Sauvegarde des données sur les chansons"
   ]
  },
  {
   "cell_type": "code",
   "execution_count": 48,
   "metadata": {
    "collapsed": true
   },
   "outputs": [],
   "source": [
    "# Enregistrer le fichier\n",
    "#data.to_csv(path_or_buf = \"/Users/okabeshu/Documents/ENSAE/Python DS/Spotify.csv\", encoding = \"utf-8\", index = False)\n",
    "# Lire le fichier\n",
    "#donnees = pd.read_csv(\"/Users/okabeshu/Documents/ENSAE/Python DS/Spotify.csv\", float_precision = \"high\", encoding = \"utf-8\")"
   ]
  }
 ],
 "metadata": {
  "kernelspec": {
   "display_name": "Python 3",
   "language": "python",
   "name": "python3"
  },
  "language_info": {
   "codemirror_mode": {
    "name": "ipython",
    "version": 3
   },
   "file_extension": ".py",
   "mimetype": "text/x-python",
   "name": "python",
   "nbconvert_exporter": "python",
   "pygments_lexer": "ipython3",
   "version": "3.6.1"
  }
 },
 "nbformat": 4,
 "nbformat_minor": 2
}
